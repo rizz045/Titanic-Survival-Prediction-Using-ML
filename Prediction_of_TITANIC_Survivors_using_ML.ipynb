{
  "nbformat": 4,
  "nbformat_minor": 0,
  "metadata": {
    "colab": {
      "provenance": []
    },
    "kernelspec": {
      "name": "python3",
      "display_name": "Python 3"
    },
    "language_info": {
      "name": "python"
    }
  },
  "cells": [
    {
      "cell_type": "markdown",
      "source": [
        "1. Import Libraries and Initial steps"
      ],
      "metadata": {
        "id": "Mo0_2wbBeKzJ"
      }
    },
    {
      "cell_type": "code",
      "execution_count": 1,
      "metadata": {
        "id": "57KKzzevd47F"
      },
      "outputs": [],
      "source": [
        "import warnings                      #to remove warnings\n",
        "import numpy as np\n",
        "import pandas as pd\n",
        "import matplotlib.pyplot as plt      #For visualization\n",
        "import seaborn as sns                #Also for visualization\n",
        "\n",
        "plt.style.use('fivethirtyeight')     #Style we are using for visualizaton\n",
        "%matplotlib inline\n",
        "warnings.filterwarnings('ignore')"
      ]
    },
    {
      "cell_type": "code",
      "source": [
        "train = pd.read_csv('train.csv')\n",
        "test = pd.read_csv('test.csv')\n",
        "print(train.shape)"
      ],
      "metadata": {
        "colab": {
          "base_uri": "https://localhost:8080/"
        },
        "id": "_2CB25S4e9Kz",
        "outputId": "99a96b27-b03e-4f18-8d30-d4463cfe9476"
      },
      "execution_count": 2,
      "outputs": [
        {
          "output_type": "stream",
          "name": "stdout",
          "text": [
            "(891, 12)\n"
          ]
        }
      ]
    },
    {
      "cell_type": "code",
      "source": [
        "train.info()"
      ],
      "metadata": {
        "colab": {
          "base_uri": "https://localhost:8080/"
        },
        "id": "LwDgB396gYju",
        "outputId": "0b18ad9c-508b-43e5-babb-552500e50567"
      },
      "execution_count": 3,
      "outputs": [
        {
          "output_type": "stream",
          "name": "stdout",
          "text": [
            "<class 'pandas.core.frame.DataFrame'>\n",
            "RangeIndex: 891 entries, 0 to 890\n",
            "Data columns (total 12 columns):\n",
            " #   Column       Non-Null Count  Dtype  \n",
            "---  ------       --------------  -----  \n",
            " 0   PassengerId  891 non-null    int64  \n",
            " 1   Survived     891 non-null    int64  \n",
            " 2   Pclass       891 non-null    int64  \n",
            " 3   Name         891 non-null    object \n",
            " 4   Sex          891 non-null    object \n",
            " 5   Age          714 non-null    float64\n",
            " 6   SibSp        891 non-null    int64  \n",
            " 7   Parch        891 non-null    int64  \n",
            " 8   Ticket       891 non-null    object \n",
            " 9   Fare         891 non-null    float64\n",
            " 10  Cabin        204 non-null    object \n",
            " 11  Embarked     889 non-null    object \n",
            "dtypes: float64(2), int64(5), object(5)\n",
            "memory usage: 83.7+ KB\n"
          ]
        }
      ]
    },
    {
      "cell_type": "code",
      "source": [
        "train.isnull().sum()"
      ],
      "metadata": {
        "colab": {
          "base_uri": "https://localhost:8080/",
          "height": 460
        },
        "id": "j0Y5yZMxg1mu",
        "outputId": "69fd5641-9632-4406-edf1-af68d622fe41"
      },
      "execution_count": 4,
      "outputs": [
        {
          "output_type": "execute_result",
          "data": {
            "text/plain": [
              "PassengerId      0\n",
              "Survived         0\n",
              "Pclass           0\n",
              "Name             0\n",
              "Sex              0\n",
              "Age            177\n",
              "SibSp            0\n",
              "Parch            0\n",
              "Ticket           0\n",
              "Fare             0\n",
              "Cabin          687\n",
              "Embarked         2\n",
              "dtype: int64"
            ],
            "text/html": [
              "<div>\n",
              "<style scoped>\n",
              "    .dataframe tbody tr th:only-of-type {\n",
              "        vertical-align: middle;\n",
              "    }\n",
              "\n",
              "    .dataframe tbody tr th {\n",
              "        vertical-align: top;\n",
              "    }\n",
              "\n",
              "    .dataframe thead th {\n",
              "        text-align: right;\n",
              "    }\n",
              "</style>\n",
              "<table border=\"1\" class=\"dataframe\">\n",
              "  <thead>\n",
              "    <tr style=\"text-align: right;\">\n",
              "      <th></th>\n",
              "      <th>0</th>\n",
              "    </tr>\n",
              "  </thead>\n",
              "  <tbody>\n",
              "    <tr>\n",
              "      <th>PassengerId</th>\n",
              "      <td>0</td>\n",
              "    </tr>\n",
              "    <tr>\n",
              "      <th>Survived</th>\n",
              "      <td>0</td>\n",
              "    </tr>\n",
              "    <tr>\n",
              "      <th>Pclass</th>\n",
              "      <td>0</td>\n",
              "    </tr>\n",
              "    <tr>\n",
              "      <th>Name</th>\n",
              "      <td>0</td>\n",
              "    </tr>\n",
              "    <tr>\n",
              "      <th>Sex</th>\n",
              "      <td>0</td>\n",
              "    </tr>\n",
              "    <tr>\n",
              "      <th>Age</th>\n",
              "      <td>177</td>\n",
              "    </tr>\n",
              "    <tr>\n",
              "      <th>SibSp</th>\n",
              "      <td>0</td>\n",
              "    </tr>\n",
              "    <tr>\n",
              "      <th>Parch</th>\n",
              "      <td>0</td>\n",
              "    </tr>\n",
              "    <tr>\n",
              "      <th>Ticket</th>\n",
              "      <td>0</td>\n",
              "    </tr>\n",
              "    <tr>\n",
              "      <th>Fare</th>\n",
              "      <td>0</td>\n",
              "    </tr>\n",
              "    <tr>\n",
              "      <th>Cabin</th>\n",
              "      <td>687</td>\n",
              "    </tr>\n",
              "    <tr>\n",
              "      <th>Embarked</th>\n",
              "      <td>2</td>\n",
              "    </tr>\n",
              "  </tbody>\n",
              "</table>\n",
              "</div><br><label><b>dtype:</b> int64</label>"
            ]
          },
          "metadata": {},
          "execution_count": 4
        }
      ]
    },
    {
      "cell_type": "markdown",
      "source": [
        "\n",
        "\n",
        "---\n",
        "\n",
        "2. Data Visualization: Understanding Survival Trends and Passenger Demographics"
      ],
      "metadata": {
        "id": "tsuEfYX1hDO1"
      }
    },
    {
      "cell_type": "code",
      "source": [
        "f, ax = plt.subplots(1, 2, figsize=(12, 4))\n",
        "\n",
        "train['Survived'].value_counts().plot.pie(explode=[0, 0.1], autopct='%1.1f%%', ax=ax[0], shadow=False)\n",
        "ax[0].set_title('Survivors (1) and the dead (0)')\n",
        "ax[0].set_ylabel('')\n",
        "sns.countplot(x='Survived', data = train, ax=ax[1])\n",
        "ax[1].set_ylabel('quantity')\n",
        "ax[1].set_title('Survivors (1) and the dead (0)')\n",
        "plt.show()"
      ],
      "metadata": {
        "colab": {
          "base_uri": "https://localhost:8080/",
          "height": 443
        },
        "id": "QtNvxkgTg6a1",
        "outputId": "4a89329e-bb91-4035-a61e-2e1a12496499"
      },
      "execution_count": 5,
      "outputs": [
        {
          "output_type": "display_data",
          "data": {
            "text/plain": [
              "<Figure size 1200x400 with 2 Axes>"
            ],
            "image/png": "[encoded data removed]"
          },
          "metadata": {}
        }
      ]
    },
    {
      "cell_type": "markdown",
      "source": [
        "Total number of survivors and deceased in total populaton of the titanic boat"
      ],
      "metadata": {
        "id": "gFVtx7hGj8hn"
      }
    },
    {
      "cell_type": "code",
      "source": [
        "f, ax = plt.subplots(1, 2, figsize=(12, 4))\n",
        "train[['Sex','Survived']].groupby(['Sex']).mean().plot.bar(ax=ax[0])\n",
        "ax[0].set_title('Survived by Sex')\n",
        "sns.countplot(x='Sex', hue='Survived', data=train, ax= ax[1])\n",
        "ax[1].set_ylabel(\"Quantity\")\n",
        "ax[1].set_title(\"Survived (1) and deceased (0): men and women\")\n",
        "plt.show()"
      ],
      "metadata": {
        "colab": {
          "base_uri": "https://localhost:8080/",
          "height": 492
        },
        "id": "5egbhCdQjbxe",
        "outputId": "5b907d55-548e-4a15-98f8-5d65812e5898"
      },
      "execution_count": 6,
      "outputs": [
        {
          "output_type": "display_data",
          "data": {
            "text/plain": [
              "<Figure size 1200x400 with 2 Axes>"
            ],
            "image/png": "[encoded data removed]"
          },
          "metadata": {}
        }
      ]
    },
    {
      "cell_type": "markdown",
      "source": [
        "Men vs Women survival count during titanic accident\n",
        "\n",
        "---\n",
        "\n",
        "3. Feature Engineering: Optimizing Data for Model Training"
      ],
      "metadata": {
        "id": "m91Qyh1Dmm-I"
      }
    },
    {
      "cell_type": "code",
      "source": [
        "train = train.drop(['Cabin','Ticket'], axis = 1)\n",
        "test = test.drop(['Cabin','Ticket'], axis = 1)"
      ],
      "metadata": {
        "id": "btIL3xwDmZii"
      },
      "execution_count": 7,
      "outputs": []
    },
    {
      "cell_type": "markdown",
      "source": [
        "We removed Cabin and Ticket column since its very unlikely to be useful for training."
      ],
      "metadata": {
        "id": "jsjV6YvfnNDu"
      }
    },
    {
      "cell_type": "code",
      "source": [
        "print(train.isnull().sum())"
      ],
      "metadata": {
        "colab": {
          "base_uri": "https://localhost:8080/"
        },
        "id": "yUdA_Fq6nLmY",
        "outputId": "37d1908c-9d1c-4477-ecec-a0a6008dc762"
      },
      "execution_count": 8,
      "outputs": [
        {
          "output_type": "stream",
          "name": "stdout",
          "text": [
            "PassengerId      0\n",
            "Survived         0\n",
            "Pclass           0\n",
            "Name             0\n",
            "Sex              0\n",
            "Age            177\n",
            "SibSp            0\n",
            "Parch            0\n",
            "Fare             0\n",
            "Embarked         2\n",
            "dtype: int64\n"
          ]
        }
      ]
    },
    {
      "cell_type": "code",
      "source": [
        "train = train.fillna({\"Embarked\":'S'})     #fills the specific column having null with the given value\n",
        "# print(train.isnull().sum())    #no more null values in Embark (uncomment and confirm it.)"
      ],
      "metadata": {
        "id": "aAzLjXpMoMZo"
      },
      "execution_count": 9,
      "outputs": []
    },
    {
      "cell_type": "markdown",
      "source": [
        "Now we will sort the age of people into age-groups. So that we have fewer catergories to work with and helps for better prediction of the model"
      ],
      "metadata": {
        "id": "ox5dhJoeqEIP"
      }
    },
    {
      "cell_type": "code",
      "source": [
        "train[\"Age\"] = train[\"Age\"].fillna(-0.5)\n",
        "test[\"Age\"] = test[\"Age\"].fillna(-0.5)\n",
        "\n",
        "bins = [-1, 0, 5, 12, 18, 24, 35, 60, np.inf]\n",
        "labels = ['Unknown', 'Babies', 'Child', 'Teenagers', 'Student',\"Young Adult\",'Adult','Senior']\n",
        "train['AgeGroup'] = pd.cut(train[\"Age\"], bins, labels = labels)\n",
        "test['AgeGroup'] = pd.cut(test[\"Age\"], bins, labels = labels)\n"
      ],
      "metadata": {
        "id": "cztMVk9oo0I3"
      },
      "execution_count": 11,
      "outputs": []
    },
    {
      "cell_type": "code",
      "source": [
        "print(train['AgeGroup'])\n",
        "print(test['AgeGroup'])"
      ],
      "metadata": {
        "colab": {
          "base_uri": "https://localhost:8080/"
        },
        "collapsed": true,
        "id": "3Us308P5r0m6",
        "outputId": "66ef6e1a-46bc-4318-acbd-5389c94b4b23"
      },
      "execution_count": 12,
      "outputs": [
        {
          "output_type": "stream",
          "name": "stdout",
          "text": [
            "0          Student\n",
            "1            Adult\n",
            "2      Young Adult\n",
            "3      Young Adult\n",
            "4      Young Adult\n",
            "          ...     \n",
            "886    Young Adult\n",
            "887        Student\n",
            "888        Unknown\n",
            "889    Young Adult\n",
            "890    Young Adult\n",
            "Name: AgeGroup, Length: 891, dtype: category\n",
            "Categories (8, object): ['Unknown' < 'Babies' < 'Child' < 'Teenagers' < 'Student' < 'Young Adult' <\n",
            "                         'Adult' < 'Senior']\n",
            "0      Young Adult\n",
            "1            Adult\n",
            "2           Senior\n",
            "3      Young Adult\n",
            "4          Student\n",
            "          ...     \n",
            "413        Unknown\n",
            "414          Adult\n",
            "415          Adult\n",
            "416        Unknown\n",
            "417        Unknown\n",
            "Name: AgeGroup, Length: 418, dtype: category\n",
            "Categories (8, object): ['Unknown' < 'Babies' < 'Child' < 'Teenagers' < 'Student' < 'Young Adult' <\n",
            "                         'Adult' < 'Senior']\n"
          ]
        }
      ]
    },
    {
      "cell_type": "markdown",
      "source": [
        "A new age group has been formed with corresponding bin values"
      ],
      "metadata": {
        "id": "XiIJb9etsH_M"
      }
    },
    {
      "cell_type": "code",
      "source": [
        "combine = [train, test]\n",
        "# print(type(combine))\n",
        "for dataset in combine:\n",
        "  dataset['Title'] = dataset.Name.str.extract('([A-Za-z]+)\\.',expand = False)\n",
        "\n",
        "print(dataset['Title'].unique())"
      ],
      "metadata": {
        "colab": {
          "base_uri": "https://localhost:8080/"
        },
        "id": "YiFSW-CobCW8",
        "outputId": "842b3692-4d4b-4c85-c00a-36a49004a78f"
      },
      "execution_count": 13,
      "outputs": [
        {
          "output_type": "stream",
          "name": "stdout",
          "text": [
            "['Mr' 'Mrs' 'Miss' 'Master' 'Ms' 'Col' 'Rev' 'Dr' 'Dona']\n"
          ]
        }
      ]
    },
    {
      "cell_type": "code",
      "source": [
        "pd.crosstab(train['Title'], train['Sex'])     #to crosstab the Title with Sex column\n",
        "\n",
        "for dataset in combine:\n",
        "  dataset['Title'] = dataset['Title'].replace(['Lady','Capt','Col','Don','Dr','Major','Rev','Jonkheer','Dona'],'Rare')\n",
        "\n",
        "  dataset['Title'] = dataset['Title'].replace(['Countess','Lady','Sir'],'Royal')\n",
        "  dataset['Title'] = dataset['Title'].replace('Mlle','Miss')\n",
        "  dataset['Title'] = dataset['Title'].replace('Ms','Miss')\n",
        "  dataset['Title'] = dataset['Title'].replace('Mme','Mrs')\n",
        "\n",
        "train[['Title','Survived']].groupby(['Title'], as_index = False).mean()\n",
        "\n",
        "title_mapping = {'Mr':1, \"Miss\":2, \"Mrs\":3, \"Master\":4, \"Royal\":5, \"Rare\":6}\n",
        "for dataset in combine:\n",
        "  dataset['Title'] = dataset['Title'].map(title_mapping)\n",
        "  dataset['Title'] = dataset['Title'].fillna(0)"
      ],
      "metadata": {
        "id": "qsnj-vO5r-je"
      },
      "execution_count": 14,
      "outputs": []
    },
    {
      "cell_type": "markdown",
      "source": [
        "Now we can fill the misiing age values"
      ],
      "metadata": {
        "id": "B-tQHaheqCGA"
      }
    },
    {
      "cell_type": "code",
      "source": [
        "mr_age = train[train[\"Title\"] == 1]['AgeGroup'].mode()\n",
        "miss_age = train[train[\"Title\"] == 2]['AgeGroup'].mode()\n",
        "mrs_age = train[train[\"Title\"] == 3]['AgeGroup'].mode()\n",
        "master_age = train[train[\"Title\"] == 4]['AgeGroup'].mode()\n",
        "royal_age = train[train[\"Title\"] == 5]['AgeGroup'].mode()\n",
        "rare_age = train[train[\"Title\"] == 6]['AgeGroup'].mode()\n",
        "\n",
        "age_title_mapping = {1:\"Young Adult\", 2:\"Student\",3:\"Adult\",4:\"Baby\",5:\"Adult\",6:\"Adult\"}\n",
        "\n",
        "for x in range(len(train[\"AgeGroup\"])):\n",
        "  if train[\"AgeGroup\"][x] == \"Unknown\":\n",
        "    train[\"AgeGroup\"][x] == age_title_mapping[train[\"Title\"][x]]\n",
        "\n",
        "for x in range(len(test[\"AgeGroup\"])):\n",
        "  if train[\"AgeGroup\"][x] == \"Unknown\":\n",
        "    train[\"AgeGroup\"][x] == age_title_mapping[train[\"Title\"][x]]"
      ],
      "metadata": {
        "id": "jEwNE4hasVi2"
      },
      "execution_count": 15,
      "outputs": []
    },
    {
      "cell_type": "markdown",
      "source": [
        "Now assign a numerical value to each age category. Once we have mapped the age into different categories we do not need the age feature. Hence drop it"
      ],
      "metadata": {
        "id": "LiqUBsTWqgEA"
      }
    },
    {
      "cell_type": "code",
      "source": [
        "age_mapping = {'Baby':1, \"Child\":2,\"Teenager\":3,\"Student\":4,\"Young Adult\":5,\"Adult\":6,\"Senior\":7}\n",
        "\n",
        "train['AgeGroup'] = train['AgeGroup'].map(age_mapping)\n",
        "test['AgeGroup'] = test['AgeGroup'].map(age_mapping)\n",
        "\n",
        "print(train.head())"
      ],
      "metadata": {
        "colab": {
          "base_uri": "https://localhost:8080/"
        },
        "id": "6Er0go8zp-of",
        "outputId": "851bd682-7654-4064-aefa-3e1b50c0f9f4"
      },
      "execution_count": 16,
      "outputs": [
        {
          "output_type": "stream",
          "name": "stdout",
          "text": [
            "   PassengerId  Survived  Pclass  \\\n",
            "0            1         0       3   \n",
            "1            2         1       1   \n",
            "2            3         1       3   \n",
            "3            4         1       1   \n",
            "4            5         0       3   \n",
            "\n",
            "                                                Name     Sex   Age  SibSp  \\\n",
            "0                            Braund, Mr. Owen Harris    male  22.0      1   \n",
            "1  Cumings, Mrs. John Bradley (Florence Briggs Th...  female  38.0      1   \n",
            "2                             Heikkinen, Miss. Laina  female  26.0      0   \n",
            "3       Futrelle, Mrs. Jacques Heath (Lily May Peel)  female  35.0      1   \n",
            "4                           Allen, Mr. William Henry    male  35.0      0   \n",
            "\n",
            "   Parch     Fare Embarked  AgeGroup  Title  \n",
            "0      0   7.2500        S       4.0      1  \n",
            "1      0  71.2833        C       6.0      3  \n",
            "2      0   7.9250        S       5.0      2  \n",
            "3      0  53.1000        S       5.0      3  \n",
            "4      0   8.0500        S       5.0      1  \n"
          ]
        }
      ]
    },
    {
      "cell_type": "code",
      "source": [
        "#Drop the Age feature for now since it's not useful anymore\n",
        "train = train.drop([\"Age\"], axis = 1)\n",
        "test = test.drop([\"Age\"], axis = 1)"
      ],
      "metadata": {
        "id": "lQpYTK0trd1J"
      },
      "execution_count": 17,
      "outputs": []
    },
    {
      "cell_type": "markdown",
      "source": [
        "Now we can also drop the Name column since it has no more useful information"
      ],
      "metadata": {
        "id": "mk9BohKKbhds"
      }
    },
    {
      "cell_type": "code",
      "source": [
        "#Drop Name column from train and test\n",
        "train = train.drop(['Name'], axis =1)\n",
        "test = test.drop(['Name'], axis =1)"
      ],
      "metadata": {
        "id": "KWmAWIf5a4Ss"
      },
      "execution_count": 18,
      "outputs": []
    },
    {
      "cell_type": "markdown",
      "source": [
        "Now assign numerical values to sex and embark categories."
      ],
      "metadata": {
        "id": "BKU6OyNXcKzZ"
      }
    },
    {
      "cell_type": "code",
      "source": [
        "print(train['Sex'],train['Embarked'])"
      ],
      "metadata": {
        "colab": {
          "base_uri": "https://localhost:8080/"
        },
        "id": "YhtwtnqafJwM",
        "outputId": "8a60c122-234e-478c-f419-76c3c1ee4805"
      },
      "execution_count": 19,
      "outputs": [
        {
          "output_type": "stream",
          "name": "stdout",
          "text": [
            "0        male\n",
            "1      female\n",
            "2      female\n",
            "3      female\n",
            "4        male\n",
            "        ...  \n",
            "886      male\n",
            "887    female\n",
            "888    female\n",
            "889      male\n",
            "890      male\n",
            "Name: Sex, Length: 891, dtype: object 0      S\n",
            "1      C\n",
            "2      S\n",
            "3      S\n",
            "4      S\n",
            "      ..\n",
            "886    S\n",
            "887    S\n",
            "888    S\n",
            "889    C\n",
            "890    Q\n",
            "Name: Embarked, Length: 891, dtype: object\n"
          ]
        }
      ]
    },
    {
      "cell_type": "code",
      "source": [
        "sex_mapping = {'male':0, 'female':1}\n",
        "train['Sex'] = train['Sex'].map(sex_mapping)\n",
        "test['Sex'] = test['Sex'].map(sex_mapping)\n",
        "\n",
        "embark_mapping = {\"S\": 1, \"C\":2,\"Q\":3}\n",
        "train[\"Embarked\"] = train['Embarked'].map(embark_mapping)\n",
        "test[\"Embarked\"] = test['Embarked'].map(embark_mapping)"
      ],
      "metadata": {
        "id": "D2GtbP26cBKb"
      },
      "execution_count": 20,
      "outputs": []
    },
    {
      "cell_type": "code",
      "source": [
        "print(train['Sex'],train['Embarked'])"
      ],
      "metadata": {
        "colab": {
          "base_uri": "https://localhost:8080/"
        },
        "id": "rAlUIrvLdMwR",
        "outputId": "5acd59fb-329e-4cef-ecee-97df579a23ff"
      },
      "execution_count": 21,
      "outputs": [
        {
          "output_type": "stream",
          "name": "stdout",
          "text": [
            "0      0\n",
            "1      1\n",
            "2      1\n",
            "3      1\n",
            "4      0\n",
            "      ..\n",
            "886    0\n",
            "887    1\n",
            "888    1\n",
            "889    0\n",
            "890    0\n",
            "Name: Sex, Length: 891, dtype: int64 0      1\n",
            "1      2\n",
            "2      1\n",
            "3      1\n",
            "4      1\n",
            "      ..\n",
            "886    1\n",
            "887    1\n",
            "888    1\n",
            "889    2\n",
            "890    3\n",
            "Name: Embarked, Length: 891, dtype: int64\n"
          ]
        }
      ]
    },
    {
      "cell_type": "markdown",
      "source": [
        "You can observe the how the column [ ' Sex ' , ' Embarked ' ] modified."
      ],
      "metadata": {
        "id": "xLoX5TiOiQp2"
      }
    },
    {
      "cell_type": "code",
      "source": [
        "for x in range(len(test['Fare'])):\n",
        "  if pd.isnull(test['Fare'][x]):\n",
        "    pclass = test['Pclass'][x]\n",
        "    test['Fare'][x] = round(train[train['Pclass'] == pclass]['Fare'].mean(), 4)\n",
        "\n",
        "#map fare values into groups of numerical Values\n",
        "train['RareBand'] = pd.qcut(train['Fare'], 4, labels = [1,2,3,4])\n",
        "test['RareBand'] = pd.qcut(test['Fare'], 4, labels = [1,2,3,4])\n",
        "\n",
        "train = train.drop(['Fare'], axis = 1)\n",
        "test = test.drop(['Fare'], axis = 1)\n"
      ],
      "metadata": {
        "id": "88_SCbAIdS_h"
      },
      "execution_count": 22,
      "outputs": []
    },
    {
      "cell_type": "markdown",
      "source": [
        "4. Model Training: building the predictive model\n",
        "\n",
        "We will be using Random Forest as our algorithm to train the predictive model."
      ],
      "metadata": {
        "id": "0zzuKof8Dz27"
      }
    },
    {
      "cell_type": "code",
      "source": [
        "from sklearn.model_selection import train_test_split\n",
        "\n",
        "#Setting up on columns to be trained with and target column\n",
        "#then spilt the data into training data and testing data\n",
        "\n",
        "predictors = train.drop([\"Survived\",\"PassengerId\"], axis = 1)\n",
        "target = train[\"Survived\"]\n",
        "\n",
        "x_train, x_val, y_train, y_val = train_test_split(predictors, target, test_size =0.2, random_state = 0)\n"
      ],
      "metadata": {
        "id": "kKn2kFX3Dy5W"
      },
      "execution_count": 26,
      "outputs": []
    },
    {
      "cell_type": "code",
      "source": [
        "from sklearn.ensemble import RandomForestClassifier\n",
        "from sklearn.metrics import accuracy_score\n",
        "\n",
        "randomforest = RandomForestClassifier()\n",
        "\n",
        "#fit the training data along with its outcome\n",
        "randomforest.fit(x_train, y_train)\n",
        "y_pred = randomforest.predict(x_val)\n",
        "\n",
        "#Find the accuracy score of the model\n",
        "acc_randomforest = round(accuracy_score(y_pred, y_val)*100,2)\n",
        "print(acc_randomforest)"
      ],
      "metadata": {
        "colab": {
          "base_uri": "https://localhost:8080/"
        },
        "id": "9JXalsLKdRT0",
        "outputId": "3068c022-40bb-4ec9-f4a0-2c3016d3b62c"
      },
      "execution_count": 32,
      "outputs": [
        {
          "output_type": "stream",
          "name": "stdout",
          "text": [
            "84.36\n"
          ]
        }
      ]
    },
    {
      "cell_type": "markdown",
      "source": [
        "Hence we can say that we got an accuracy of 84.36%\n",
        "\n",
        "(Since random forest algorithm varies a little but on every run the accuracy may vary a little bit)"
      ],
      "metadata": {
        "id": "vDHiuvbofJl2"
      }
    },
    {
      "cell_type": "code",
      "source": [
        "ids = test['PassengerId']\n",
        "predictions = randomforest.predict(test.drop('PassengerId', axis=1))\n",
        "\n",
        "output = pd.DataFrame({'PassengerId':ids,'Survived':predictions})\n",
        "output.to_csv('resultfile.csv', index=False)"
      ],
      "metadata": {
        "id": "lwY7nQFfe61z"
      },
      "execution_count": 33,
      "outputs": []
    },
    {
      "cell_type": "code",
      "source": [
        "print(output)"
      ],
      "metadata": {
        "colab": {
          "base_uri": "https://localhost:8080/"
        },
        "id": "ltBJN6WfgWrb",
        "outputId": "f396d1c6-32f4-4f01-d648-15b80aa46121"
      },
      "execution_count": 34,
      "outputs": [
        {
          "output_type": "stream",
          "name": "stdout",
          "text": [
            "     PassengerId  Survived\n",
            "0            892         0\n",
            "1            893         0\n",
            "2            894         0\n",
            "3            895         0\n",
            "4            896         0\n",
            "..           ...       ...\n",
            "413         1305         0\n",
            "414         1306         1\n",
            "415         1307         0\n",
            "416         1308         0\n",
            "417         1309         1\n",
            "\n",
            "[418 rows x 2 columns]\n"
          ]
        }
      ]
    },
    {
      "cell_type": "markdown",
      "source": [
        "Thank you for going through my work till the end, you've already made my day and I hope you have a wonderful one.\n",
        "\n",
        "Feel free to reach out if you have any doubts regarding above work."
      ],
      "metadata": {
        "id": "y6zX18UNiw7T"
      }
    }
  ]
}